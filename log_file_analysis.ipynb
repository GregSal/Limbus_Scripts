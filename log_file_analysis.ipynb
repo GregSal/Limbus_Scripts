{
 "cells": [
  {
   "cell_type": "code",
   "execution_count": 1,
   "metadata": {},
   "outputs": [],
   "source": [
    "from typing import List\n",
    "\n",
    "from pathlib import Path\n",
    "import re\n",
    "\n",
    "import pandas as pd\n",
    "import xlwings as xw"
   ]
  },
  {
   "cell_type": "markdown",
   "metadata": {},
   "source": [
    "### Specialized message parsing\n",
    "- ***Wrote DICOM RT-Struct File***: `C:/DICOM/Limbus Export\\limbus_1.6.0_1.2.840.113704.1.- 111.7856.`\n",
    "- ***Applied Template*** - `Prostate via import rule - Prostate for 0455860`\n",
    "- ***No suitable global reference structure found for*** `BODY`\n",
    "- ***Imported*** `1 Series.`\n",
    "- ***No import rule triggered*** - `No Template could be applied for series`\n",
    "- ***All pending series contoured.*** `Waiting for additional imports`\n",
    "- ***Initialized LimbusContourService***\n",
    "- *Head-Neck* ***Template applied for series***\n",
    "- 0369892 - 1.2.840.113704.1.111.7064.1679931718.12 ***could not be contoured - no import rule triggered***\n",
    "- [Errno 2] ***No such file or directory***: `'C:/DICOM/Limbus Imports\\\\1.2.840.113704.1.111.8136.1680795532.10\\\\CT.1.2.840.113704.1.111.2688.1680795559.2050.dcm'`\n"
   ]
  },
  {
   "cell_type": "code",
   "execution_count": 2,
   "metadata": {},
   "outputs": [],
   "source": [
    "def parse_log_file(raw_text: List[str])->pd.DataFrame:\n",
    "    date_line_ptrn = re.compile(\n",
    "        r'^'                                                # Start of line\n",
    "        r'(?P<date>[0-9: -]+)'                               # Date and time group\n",
    "        r',[0-9]+'                                          # Milliseconds\n",
    "        r'[ -]+'                                            # Break indicated by '-'\n",
    "        r'(?P<msg_type>WARNING|INFO|ERRORAUTOMATIC|ERROR):'  # Message type group\n",
    "        r'(?P<auto_tag>AUTOMATIC)?:?\\s*'                     # Possible 'AUTOMATIC' Tag\n",
    "        r'(?P<remainder>.*)$'                                # Remainder of line\n",
    "        )\n",
    "\n",
    "    action_ptrn = re.compile(\n",
    "        r'^'                         # Start of line\n",
    "        r'\\s*'                       # Possible initial spaces\n",
    "        r'(?P<action>[A-Za-z .]+):'  # Text including periods and spaces before a ':'\n",
    "        r'\\s*'                       # Possible spaces\n",
    "        r'(?P<remainder>.*)$'        # Remainder of line\n",
    "        )\n",
    "\n",
    "    alternate_ptrn = re.compile(\n",
    "        r'^'                     # Start of line\n",
    "        r'\\s*'                   # Possible initial spaces\n",
    "        r'(?:[0-9]+ - [0-9.]*\\s*)?'  # Non-capturing optional string of numbers representing UID\n",
    "        r'(?:\\[Errno[ 0-9]*\\])?' # Non-capturing Optional Error number\n",
    "        r'(?P<action>'           # Beginning of action group\n",
    "        # The following are possible phrases that qualify as 'actions'\n",
    "        r'Wrote DICOM RT-Struct File|'\n",
    "        r'Applied Template|'\n",
    "        r'No suitable global reference structure found for|'\n",
    "        r'Imported|'\n",
    "        r'No import rule triggered|'\n",
    "        r'All pending series contoured.|'\n",
    "        r'Initialized LimbusContourService|'\n",
    "        r'.*Template applied for series|'\n",
    "        r'.*No such file or directory|'\n",
    "        r'could not be contoured - no import rule triggered'    \n",
    "        r')'                     # End of action group\n",
    "        r'[ :-]*'                # Possible spaces, ':', '-'\n",
    "        r'(?P<remainder>.*)$'    # Remainder of line\n",
    "        )\n",
    "\n",
    "    message_rows = []\n",
    "    for line in raw_text:\n",
    "        first_match = date_line_ptrn.fullmatch(line)\n",
    "        if first_match is not None:\n",
    "            column_groups = first_match.groupdict()\n",
    "            remainder = first_match.group('remainder')\n",
    "        else:\n",
    "            remainder = line.strip()\n",
    "        action_match = action_ptrn.fullmatch(remainder)\n",
    "        if action_match is not None:\n",
    "            column_groups.update(action_match.groupdict())\n",
    "            remainder = action_match.group('remainder')\n",
    "        else:\n",
    "            alternate_action_match = alternate_ptrn.fullmatch(remainder)\n",
    "            if alternate_action_match is not None:\n",
    "                column_groups.update(alternate_action_match.groupdict())\n",
    "                remainder = alternate_action_match.group('remainder')\n",
    "            else:\n",
    "                remainder = remainder.strip()\n",
    "        message_rows.append(column_groups)\n",
    "\n",
    "    message_table = pd.DataFrame(message_rows)\n",
    "    selected_columns = ['date', 'msg_type', 'action', \n",
    "                    'auto_tag', 'remainder']\n",
    "    message_table = message_table.loc[:, selected_columns].copy()\n",
    "    #message_table.sort_values(['date', 'msg_type', 'action'], inplace=True, ignore_index=True)\n",
    "    return message_table"
   ]
  },
  {
   "cell_type": "code",
   "execution_count": 3,
   "metadata": {},
   "outputs": [],
   "source": [
    "def get_log_lines(log_file: Path)->List[str]:\n",
    "    raw_text = log_file.read_text().splitlines()\n",
    "    # Drop 'PROGRESS', becasue they will not contain error information\n",
    "    raw_text = [line for line in raw_text if 'PROGRESS' not in line]\n",
    "    return raw_text"
   ]
  },
  {
   "cell_type": "code",
   "execution_count": 4,
   "metadata": {},
   "outputs": [],
   "source": [
    "base_path = Path(r'..\\Log files').resolve()\n",
    "\n",
    "log_file = base_path / 'LimbusContourService_2023_03_27.log'"
   ]
  },
  {
   "cell_type": "code",
   "execution_count": 5,
   "metadata": {},
   "outputs": [],
   "source": [
    "raw_text = get_log_lines(log_file)\n",
    "message_table = parse_log_file(raw_text)"
   ]
  },
  {
   "cell_type": "code",
   "execution_count": 6,
   "metadata": {},
   "outputs": [],
   "source": [
    "save_name = log_file.stem + '.xlsx'\n",
    "save_file = log_file.parent / save_name\n",
    "wb = xw.Book()\n",
    "wb.save(save_file)\n",
    "\n",
    "sheet = wb.sheets.add('Raw Log')\n",
    "sheet.range('A1').options(transpose=True).value = raw_text\n",
    "\n",
    "sheet = wb.sheets.add('Formatted Log')\n",
    "xw.view(message_table, sheet=sheet)\n",
    "\n",
    "wb.save()"
   ]
  }
 ],
 "metadata": {
  "kernelspec": {
   "display_name": "Structures",
   "language": "python",
   "name": "python3"
  },
  "language_info": {
   "codemirror_mode": {
    "name": "ipython",
    "version": 3
   },
   "file_extension": ".py",
   "mimetype": "text/x-python",
   "name": "python",
   "nbconvert_exporter": "python",
   "pygments_lexer": "ipython3",
   "version": "3.8.16"
  },
  "orig_nbformat": 4
 },
 "nbformat": 4,
 "nbformat_minor": 2
}
